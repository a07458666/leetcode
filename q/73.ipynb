{
 "metadata": {
  "language_info": {
   "codemirror_mode": {
    "name": "ipython",
    "version": 3
   },
   "file_extension": ".py",
   "mimetype": "text/x-python",
   "name": "python",
   "nbconvert_exporter": "python",
   "pygments_lexer": "ipython3",
   "version": "3.7.4-final"
  },
  "orig_nbformat": 2,
  "kernelspec": {
   "name": "python37464bitbaseconda1c305fe59c07462d89243a67d7cd60ae",
   "display_name": "Python 3.7.4 64-bit ('base': conda)"
  }
 },
 "nbformat": 4,
 "nbformat_minor": 2,
 "cells": [
  {
   "cell_type": "code",
   "execution_count": 58,
   "metadata": {},
   "outputs": [],
   "source": [
    "import numpy as np\n",
    "from typing import List\n",
    "\n",
    "class Solution:\n",
    "    def setZeroes(self, matrix: List[List[int]]) -> None:\n",
    "        #self.showData(matrix)\n",
    "        rows = len(matrix)\n",
    "        cols = len(matrix[0])\n",
    "        zeroIndex = [0] * (rows + cols)\n",
    "        #print(rows, \", \", cols, \",\" ,zeroIndex)\n",
    "        for i in range(rows):\n",
    "            for j in range(cols):\n",
    "                if matrix[i][j] == 0:\n",
    "                    zeroIndex[j] = 1\n",
    "                    zeroIndex[i + cols] = 1\n",
    "        for i in range(rows):\n",
    "            for j in range(cols):\n",
    "                if zeroIndex[j] == 1 or zeroIndex[i + cols] == 1:\n",
    "                    matrix[i][j] = 0\n",
    "        \n",
    "        #self.showData(matrix)\n",
    "    def showData(self, matrix:List[List[int]]):\n",
    "        print(\"----------\")\n",
    "        for i in matrix:\n",
    "            print(i)"
   ]
  },
  {
   "cell_type": "code",
   "execution_count": 59,
   "metadata": {
    "tags": []
   },
   "outputs": [],
   "source": [
    "#data = [[1,1,1], [1, 0, 1], [1, 1, 1], [1, 1, 1]]\n",
    "#data = [[1,1,1], [1, 0, 1], [1, 1, 1]]\n",
    "data = [[1,1,1,1], [1, 0, 1,1], [1, 1, 0,1]]\n",
    "data = [[1, 0]]\n",
    "data = [[0, 1]]\n",
    "s = Solution()\n",
    "s.setZeroes(data)"
   ]
  },
  {
   "cell_type": "code",
   "execution_count": null,
   "metadata": {},
   "outputs": [],
   "source": []
  },
  {
   "cell_type": "code",
   "execution_count": null,
   "metadata": {},
   "outputs": [],
   "source": []
  }
 ]
}