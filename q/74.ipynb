{
 "metadata": {
  "language_info": {
   "codemirror_mode": {
    "name": "ipython",
    "version": 3
   },
   "file_extension": ".py",
   "mimetype": "text/x-python",
   "name": "python",
   "nbconvert_exporter": "python",
   "pygments_lexer": "ipython3",
   "version": "3.7.4-final"
  },
  "orig_nbformat": 2,
  "kernelspec": {
   "name": "python37464bitbaseconda1c305fe59c07462d89243a67d7cd60ae",
   "display_name": "Python 3.7.4 64-bit ('base': conda)"
  }
 },
 "nbformat": 4,
 "nbformat_minor": 2,
 "cells": [
  {
   "cell_type": "code",
   "execution_count": 30,
   "metadata": {},
   "outputs": [],
   "source": [
    "import numpy as np\n",
    "from typing import List\n",
    "\n",
    "class Solution:\n",
    "    def searchMatrix(self, matrix: List[List[int]], target: int) -> bool:\n",
    "        if len(matrix) == 0:\n",
    "            return False\n",
    "        if len(matrix[0]) == 0:\n",
    "            return False\n",
    "        if target < matrix[0][0] or target > matrix[-1][-1]:\n",
    "            return False\n",
    "        start = 0\n",
    "        end = len(matrix)\n",
    "        while end >= start:\n",
    "            rowIndex = start + int((end - start) / 2)\n",
    "            if target < matrix[rowIndex][0]:\n",
    "                end = rowIndex - 1\n",
    "            elif target > matrix[rowIndex][-1]:\n",
    "                start = rowIndex + 1\n",
    "            else:\n",
    "                return self.findTarget(matrix[rowIndex], target)\n",
    "        return False\n",
    "    def findTarget(self, matrix: List[int], target: int) -> bool:\n",
    "        start = 0\n",
    "        end = len(matrix)\n",
    "        while end >= start:\n",
    "            colIndex = start + int((end - start) / 2)\n",
    "            if target == matrix[colIndex]:\n",
    "                return True\n",
    "            elif target < matrix[colIndex]:\n",
    "                end = colIndex - 1\n",
    "            elif target > matrix[colIndex]:\n",
    "                start = colIndex + 1\n",
    "        return False\n"
   ]
  },
  {
   "cell_type": "code",
   "execution_count": 32,
   "metadata": {
    "tags": []
   },
   "outputs": [
    {
     "output_type": "stream",
     "name": "stdout",
     "text": "0   False\n1   True\n2   True\n3   True\n4   True\n5   True\n6   True\n7   True\n8   False\n9   True\n10   True\n11   True\n12   True\n"
    }
   ],
   "source": [
    "data = [[1,2,3], [4, 5, 5, 6], [7, 7, 7,7,7,7,7,7,7,7,7,7,7, 9,9,9,9,9,9,9,9, 9,9,9,9], [10, 11, 12]]\n",
    "#data = [[1], [3]]\n",
    "target = 2\n",
    "s = Solution()\n",
    "for i in range(13):\n",
    "    ans = s.searchMatrix(data, i)\n",
    "    print(i, \" \", ans)"
   ]
  },
  {
   "cell_type": "code",
   "execution_count": 21,
   "metadata": {
    "tags": []
   },
   "outputs": [
    {
     "output_type": "stream",
     "name": "stdout",
     "text": "findTarget  [10, 11, 12]   10\ncolIndex  1 S  0 E  3\nFalse\n"
    }
   ],
   "source": [
    "ans = s.searchMatrix(data, 10)\n",
    "print(ans)"
   ]
  },
  {
   "cell_type": "code",
   "execution_count": 44,
   "metadata": {},
   "outputs": [
    {
     "output_type": "execute_result",
     "data": {
      "text/plain": "0"
     },
     "metadata": {},
     "execution_count": 44
    }
   ],
   "source": []
  },
  {
   "cell_type": "code",
   "execution_count": null,
   "metadata": {},
   "outputs": [],
   "source": []
  }
 ]
}