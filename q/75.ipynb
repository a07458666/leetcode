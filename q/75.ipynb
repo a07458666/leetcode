{
 "metadata": {
  "language_info": {
   "codemirror_mode": {
    "name": "ipython",
    "version": 3
   },
   "file_extension": ".py",
   "mimetype": "text/x-python",
   "name": "python",
   "nbconvert_exporter": "python",
   "pygments_lexer": "ipython3",
   "version": 3
  },
  "orig_nbformat": 2,
  "kernelspec": {
   "name": "python_defaultSpec_1597303785744",
   "display_name": "Python 3.7.4 64-bit ('base': conda)"
  }
 },
 "nbformat": 4,
 "nbformat_minor": 2,
 "cells": [
  {
   "cell_type": "code",
   "execution_count": 11,
   "metadata": {},
   "outputs": [],
   "source": [
    "import numpy as np\n",
    "from typing import List\n",
    "\n",
    "class Solution:\n",
    "    def sortColors(self, nums: List[int]) -> None:\n",
    "        #nums.sort()\n",
    "        size = len(nums)\n",
    "        for i in range(size - 1):\n",
    "            for j in range(i + 1, size):\n",
    "                if nums[i] > nums[j]:\n",
    "                    temp = nums[i]\n",
    "                    nums[i] = nums[j]\n",
    "                    nums[j] = temp\n",
    "                #print(i,\", \", j)"
   ]
  },
  {
   "cell_type": "code",
   "execution_count": 13,
   "metadata": {
    "tags": []
   },
   "outputs": [
    {
     "output_type": "stream",
     "name": "stdout",
     "text": "data  [0, 0, 1, 1, 2, 2]\n"
    }
   ],
   "source": [
    "data = [2,0,2,1,1,0]\n",
    "#data = []\n",
    "s = Solution()\n",
    "s.sortColors(data)\n",
    "print(\"data \", data)"
   ]
  },
  {
   "cell_type": "code",
   "execution_count": null,
   "metadata": {},
   "outputs": [],
   "source": []
  },
  {
   "cell_type": "code",
   "execution_count": null,
   "metadata": {},
   "outputs": [],
   "source": []
  }
 ]
}