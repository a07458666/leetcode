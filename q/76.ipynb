{
 "metadata": {
  "language_info": {
   "codemirror_mode": {
    "name": "ipython",
    "version": 3
   },
   "file_extension": ".py",
   "mimetype": "text/x-python",
   "name": "python",
   "nbconvert_exporter": "python",
   "pygments_lexer": "ipython3",
   "version": 3
  },
  "orig_nbformat": 2,
  "kernelspec": {
   "name": "python_defaultSpec_1597308611047",
   "display_name": "Python 3.7.4 64-bit ('base': conda)"
  }
 },
 "nbformat": 4,
 "nbformat_minor": 2,
 "cells": [
  {
   "cell_type": "code",
   "execution_count": 113,
   "metadata": {},
   "outputs": [],
   "source": [
    "class Solution:\n",
    "    def minWindow(self, s: str, t: str) -> str:\n",
    "        if t == \"\" or s == \"\":\n",
    "            return \"\"\n",
    "        targetDict = self.createDictByTStr(t)\n",
    "        print(targetDict.keys())\n",
    "        print(targetDict.values())\n",
    "        start = end = ans_start = ans_end = 0\n",
    "        minWindowNum = len(s)\n",
    "        finish = len(targetDict)\n",
    "        while end < len(s):\n",
    "            while finish > 0 and end < len(s):\n",
    "                curWord = s[end]\n",
    "                if curWord in targetDict:\n",
    "                    targetDict[curWord] -= 1\n",
    "                    if targetDict[curWord] == 0:\n",
    "                        finish -= 1\n",
    "                end += 1\n",
    "            while finish == 0:\n",
    "                curWord = s[start]\n",
    "                if curWord in targetDict:\n",
    "                    targetDict[curWord] += 1\n",
    "                    if targetDict[curWord] > 0:\n",
    "                        finish += 1\n",
    "                start += 1\n",
    "            if end - (start - 1) <= minWindowNum:\n",
    "                ans_start = start - 1\n",
    "                ans_end = end\n",
    "                minWindowNum = ans_end - ans_start\n",
    "                #print(\"ans_start \", ans_start, \"ans_end \", ans_end, \"minWindowNum \", minWindowNum)\n",
    "\n",
    "        return s[ans_start:ans_end]\n",
    "    def createDictByTStr(self, t: str) -> dict:\n",
    "        targetDict = {}\n",
    "        for i in t:\n",
    "            if i in targetDict:\n",
    "                targetDict[i] += 1\n",
    "            else:\n",
    "                targetDict[i] = 1\n",
    "        return targetDict"
   ]
  },
  {
   "cell_type": "code",
   "execution_count": 114,
   "metadata": {
    "tags": []
   },
   "outputs": [
    {
     "output_type": "stream",
     "name": "stdout",
     "text": "dict_keys(['A', 'B', 'C'])\ndict_values([1, 1, 1])\nans :  BANC\n"
    }
   ],
   "source": [
    "s = \"ADOBECODEBANC\"\n",
    "t = \"ABC\"\n",
    "solution = Solution()\n",
    "ans = solution.minWindow(s, t)\n",
    "print(\"ans : \", ans)"
   ]
  },
  {
   "cell_type": "code",
   "execution_count": null,
   "metadata": {},
   "outputs": [],
   "source": []
  }
 ]
}