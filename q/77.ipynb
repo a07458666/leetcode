{
 "metadata": {
  "language_info": {
   "codemirror_mode": {
    "name": "ipython",
    "version": 3
   },
   "file_extension": ".py",
   "mimetype": "text/x-python",
   "name": "python",
   "nbconvert_exporter": "python",
   "pygments_lexer": "ipython3",
   "version": 3
  },
  "orig_nbformat": 2,
  "kernelspec": {
   "name": "python_defaultSpec_1597312461254",
   "display_name": "Python 3.7.4 64-bit ('base': conda)"
  }
 },
 "nbformat": 4,
 "nbformat_minor": 2,
 "cells": [
  {
   "cell_type": "code",
   "execution_count": 48,
   "metadata": {},
   "outputs": [],
   "source": [
    "from typing import List\n",
    "#Q1\n",
    "class Solution:\n",
    "    def combine(self, n: int, k: int) -> List[List[int]]:\n",
    "        self.ans = []\n",
    "        self.recursive([], n, k)\n",
    "        return self.ans\n",
    "    def recursive(self, combin: List, n : int, k: int):\n",
    "        if k == 0:\n",
    "            self.ans.append(combin)\n",
    "            return\n",
    "        if len(combin) > 0:\n",
    "            start = combin[-1] + 1\n",
    "        else:\n",
    "            start = 1\n",
    "        for i in range(start, n + 1):\n",
    "            newCombin = combin.copy()\n",
    "            newCombin.append(i)\n",
    "            #print(\"k : \", k, \", i \", i, \", new : \", newCombin)\n",
    "            self.recursive(newCombin, n, k - 1)"
   ]
  },
  {
   "cell_type": "code",
   "execution_count": 54,
   "metadata": {
    "tags": []
   },
   "outputs": [
    {
     "output_type": "stream",
     "name": "stdout",
     "text": "k :  2 , i  1 , new :  [1]\nk :  1 , i  2 , new :  [1, 2]\nk :  1 , i  3 , new :  [1, 3]\nk :  2 , i  2 , new :  [2]\nk :  1 , i  3 , new :  [2, 3]\nk :  2 , i  3 , new :  [3]\nans :  [[1, 2], [1, 3], [2, 3]]\n"
    }
   ],
   "source": [
    "n = 3\n",
    "k = 2\n",
    "solution = Solution()\n",
    "ans = solution.combine(n, k)\n",
    "print(\"ans : \", ans)"
   ]
  },
  {
   "cell_type": "code",
   "execution_count": 90,
   "metadata": {},
   "outputs": [],
   "source": [
    "from typing import List\n",
    "#Q2\n",
    "class Solution:\n",
    "    def combine(self, n: int, k: int) -> List[List[int]]:\n",
    "        self.ans = []\n",
    "        self.recursive([], n, k, 1)\n",
    "        return self.ans\n",
    "    def recursive(self, slate: List, n : int, k: int, s: int):\n",
    "        if len(slate) == k:\n",
    "            self.ans.append(slate[:]) #<=== [:]為何?copy的意思!!!!會被pop()清空\n",
    "            return\n",
    "        if s == n + 1:\n",
    "            return\n",
    "        self.recursive(slate, n, k, s + 1)\n",
    "        slate.append(s)\n",
    "        self.recursive(slate, n, k, s + 1)\n",
    "        slate.pop()\n",
    "        print(\"k : \", k, \", s \", s, \", slate : \", slate)"
   ]
  },
  {
   "cell_type": "code",
   "execution_count": 91,
   "metadata": {
    "tags": []
   },
   "outputs": [
    {
     "output_type": "stream",
     "name": "stdout",
     "text": "k :  2 , s  3 , slate :  []\nk :  2 , s  3 , slate :  [2]\nk :  2 , s  2 , slate :  []\nk :  2 , s  3 , slate :  [1]\nk :  2 , s  2 , slate :  [1]\nk :  2 , s  1 , slate :  []\nans :  [[2, 3], [1, 3], [1, 2]]\n"
    }
   ],
   "source": [
    "n = 3\n",
    "k = 2\n",
    "solution = Solution()\n",
    "ans = solution.combine(n, k)\n",
    "print(\"ans : \", ans)"
   ]
  },
  {
   "cell_type": "code",
   "execution_count": 87,
   "metadata": {
    "tags": []
   },
   "outputs": [
    {
     "output_type": "stream",
     "name": "stdout",
     "text": "[[1, 2, 3]]\n[1, 2, 3]\n[1, 2, 3]\n[[1, 2, 3], [[1, 2, 3]]]\n[[1, 2, 3], [1, 2, 3]]\n[[1, 2, 3], [1, 2, 3]]\n"
    }
   ],
   "source": [
    "a = [1,2,3]\n",
    "print([a])\n",
    "print(a[:])\n",
    "print(a)\n",
    "x = [a]\n",
    "x.append([a])\n",
    "print(x)\n",
    "x = [a]\n",
    "x.append(a[:])\n",
    "print(x)\n",
    "x = [a]\n",
    "x.append(a)\n",
    "print(x)"
   ]
  },
  {
   "cell_type": "code",
   "execution_count": 92,
   "metadata": {},
   "outputs": [],
   "source": [
    "#Q3\n",
    "class Solution:\n",
    "    def combine(self, n: int, k: int) -> List[List[int]]:\n",
    "        # Check if time is unstable\n",
    "        if n<=0 or n<k or k<0:\n",
    "            return []\n",
    "        \n",
    "        def helper(offset, partial):\n",
    "            if len(partial)==k:\n",
    "                result.append(partial[:])\n",
    "                return\n",
    "            \n",
    "            remain = k - len(partial)\n",
    "            for i in range(offset, n-remain+2):\n",
    "                helper(i+1, partial+[i])\n",
    "                \n",
    "        result = []\n",
    "        helper(1, [])\n",
    "        return result"
   ]
  },
  {
   "cell_type": "code",
   "execution_count": null,
   "metadata": {},
   "outputs": [],
   "source": []
  }
 ]
}